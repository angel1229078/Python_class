{
 "cells": [
  {
   "cell_type": "code",
   "execution_count": 3,
   "metadata": {},
   "outputs": [
    {
     "name": "stdout",
     "output_type": "stream",
     "text": [
      "student_name is:angel\n",
      "student_mail is:omo@gmail.com\n",
      "student_phone_number is:090\n",
      "student_gender is:female\n",
      "student_age is:(age)\n"
     ]
    }
   ],
   "source": [
    "# the function will resigter the student name, email, phone number,gender,age\n",
    "name = input(\"enter student name:\")\n",
    "email = input(\"enter student email:\")\n",
    "phone_number = input(\"enter student phone number:\")\n",
    "gender = input()\n",
    "age = input()\n",
    "\n",
    "print(f'student_name is:{name}')\n",
    "print(f'student_mail is:{email}')\n",
    "print(f'student_phone_number is:{phone_number}')\n",
    "print(f'student_gender is:{gender}')\n",
    "print(f'student_age is:(age)')"
   ]
  },
  {
   "cell_type": "code",
   "execution_count": 1,
   "metadata": {},
   "outputs": [],
   "source": [
    "def student_record():\n",
    "    name = input(\"enter student name:\")\n",
    "    email = input(\"enter student email:\")\n",
    "    phone_number = input(\"enter student phone number:\")\n",
    "    gender = input()\n",
    "    age = input()\n",
    "\n",
    "    student_file = {'student_name':name,\n",
    "                    'student_email':email,\n",
    "                    'phone_number':phone_number,        \n",
    "                    'gender':gender,\n",
    "                    'age':age}\n",
    "    \n",
    "\n",
    "\n",
    "    return student_file\n",
    "\n",
    "\n",
    "    print(f'student_name is:{name}')\n",
    "    print(f'student_mail is:{email}')\n",
    "    print(f'student_phone_number is:{phone_number}')\n",
    "    print(f'student_gender is:{gender}')\n",
    "    print(f'student_age is:(age)')"
   ]
  },
  {
   "cell_type": "code",
   "execution_count": 12,
   "metadata": {},
   "outputs": [
    {
     "name": "stdout",
     "output_type": "stream",
     "text": [
      "Angel\n",
      "omo@gmail.com\n",
      "090\n",
      "female\n",
      "80\n"
     ]
    }
   ],
   "source": [
    "student_record()\n"
   ]
  }
 ],
 "metadata": {
  "kernelspec": {
   "display_name": "Python 3",
   "language": "python",
   "name": "python3"
  },
  "language_info": {
   "codemirror_mode": {
    "name": "ipython",
    "version": 3
   },
   "file_extension": ".py",
   "mimetype": "text/x-python",
   "name": "python",
   "nbconvert_exporter": "python",
   "pygments_lexer": "ipython3",
   "version": "3.11.5"
  },
  "orig_nbformat": 4
 },
 "nbformat": 4,
 "nbformat_minor": 2
}
