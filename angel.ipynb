{
 "cells": [
  {
   "cell_type": "code",
   "execution_count": 6,
   "metadata": {},
   "outputs": [
    {
     "name": "stdout",
     "output_type": "stream",
     "text": [
      "the area of a rectangle is equal to 9000\n",
      "the perimeter of rectangle is equal to 380\n"
     ]
    }
   ],
   "source": [
    "length = int(input())\n",
    "width =  int(input())\n",
    "\n",
    "Area_of_a_rectangle = (length*width)\n",
    "print(f\"the area of a rectangle is equal to {Area_of_a_rectangle}\")\n",
    "\n",
    "perimeter_of_a_rectangle = (length+length+width+width)\n",
    "print(f\"the perimeter of rectangle is equal to {perimeter_of_a_rectangle}\")"
   ]
  },
  {
   "cell_type": "code",
   "execution_count": 3,
   "metadata": {},
   "outputs": [
    {
     "name": "stdout",
     "output_type": "stream",
     "text": [
      "['mango', 'orange', 'cherry', 'pawpaw', 'strawberry']\n"
     ]
    }
   ],
   "source": [
    "fruit = [\"strawberry\",\"pawpaw\",\"cherry\",\"orange\",\"mango\"]\n",
    "fruit.reverse()\n",
    "print(fruit)"
   ]
  },
  {
   "cell_type": "code",
   "execution_count": 9,
   "metadata": {},
   "outputs": [
    {
     "name": "stdout",
     "output_type": "stream",
     "text": [
      "25.0 degrees Celsius is equal to 77.0 degrees Fahrenheit\n",
      "0.0 degrees Celsius is equal to 32.0 degrees Fahrenheit\n",
      "-10.0 degrees Celsius is equal to 14.0 degrees Fahrenheit\n"
     ]
    }
   ],
   "source": [
    "\n",
    "def celsius_to_fahrenheit(celsius):\n",
    "    fahrenheit = (celsius * 9/5) + 32\n",
    "    return fahrenheit\n",
    "\n",
    "# Test the function with three different temperature values\n",
    "temperature1 = 25.0\n",
    "temperature2 = 0.0\n",
    "temperature3 = -10.0\n",
    "\n",
    "converted_temperature1 = celsius_to_fahrenheit(temperature1)\n",
    "converted_temperature2 = celsius_to_fahrenheit(temperature2)\n",
    "converted_temperature3 = celsius_to_fahrenheit(temperature3)\n",
    "\n",
    "print(f\"{temperature1} degrees Celsius is equal to {converted_temperature1} degrees Fahrenheit\")\n",
    "print(f\"{temperature2} degrees Celsius is equal to {converted_temperature2} degrees Fahrenheit\")\n",
    "print(f\"{temperature3} degrees Celsius is equal to {converted_temperature3} degrees Fahrenheit\")\n"
   ]
  },
  {
   "cell_type": "code",
   "execution_count": null,
   "metadata": {},
   "outputs": [],
   "source": []
  }
 ],
 "metadata": {
  "kernelspec": {
   "display_name": "Python 3",
   "language": "python",
   "name": "python3"
  },
  "language_info": {
   "codemirror_mode": {
    "name": "ipython",
    "version": 3
   },
   "file_extension": ".py",
   "mimetype": "text/x-python",
   "name": "python",
   "nbconvert_exporter": "python",
   "pygments_lexer": "ipython3",
   "version": "3.11.5"
  },
  "orig_nbformat": 4
 },
 "nbformat": 4,
 "nbformat_minor": 2
}
